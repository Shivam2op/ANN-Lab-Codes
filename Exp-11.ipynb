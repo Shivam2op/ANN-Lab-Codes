{
 "cells": [
  {
   "cell_type": "code",
   "execution_count": 1,
   "id": "16798f2e",
   "metadata": {},
   "outputs": [
    {
     "name": "stdout",
     "output_type": "stream",
     "text": [
      "Downloading http://yann.lecun.com/exdb/mnist/train-images-idx3-ubyte.gz\n",
      "Downloading http://yann.lecun.com/exdb/mnist/train-images-idx3-ubyte.gz to ./data\\MNIST\\raw\\train-images-idx3-ubyte.gz\n"
     ]
    },
    {
     "name": "stderr",
     "output_type": "stream",
     "text": [
      "100%|████████████████████████████████████████████████████████████████████| 9912422/9912422 [00:19<00:00, 509095.59it/s]\n"
     ]
    },
    {
     "name": "stdout",
     "output_type": "stream",
     "text": [
      "Extracting ./data\\MNIST\\raw\\train-images-idx3-ubyte.gz to ./data\\MNIST\\raw\n",
      "\n",
      "Downloading http://yann.lecun.com/exdb/mnist/train-labels-idx1-ubyte.gz\n",
      "Downloading http://yann.lecun.com/exdb/mnist/train-labels-idx1-ubyte.gz to ./data\\MNIST\\raw\\train-labels-idx1-ubyte.gz\n"
     ]
    },
    {
     "name": "stderr",
     "output_type": "stream",
     "text": [
      "100%|███████████████████████████████████████████████████████████████████████| 28881/28881 [00:00<00:00, 9657633.25it/s]\n"
     ]
    },
    {
     "name": "stdout",
     "output_type": "stream",
     "text": [
      "Extracting ./data\\MNIST\\raw\\train-labels-idx1-ubyte.gz to ./data\\MNIST\\raw\n",
      "\n",
      "Downloading http://yann.lecun.com/exdb/mnist/t10k-images-idx3-ubyte.gz\n",
      "Downloading http://yann.lecun.com/exdb/mnist/t10k-images-idx3-ubyte.gz to ./data\\MNIST\\raw\\t10k-images-idx3-ubyte.gz\n"
     ]
    },
    {
     "name": "stderr",
     "output_type": "stream",
     "text": [
      "100%|███████████████████████████████████████████████████████████████████| 1648877/1648877 [00:00<00:00, 7646600.54it/s]\n"
     ]
    },
    {
     "name": "stdout",
     "output_type": "stream",
     "text": [
      "Extracting ./data\\MNIST\\raw\\t10k-images-idx3-ubyte.gz to ./data\\MNIST\\raw\n",
      "\n",
      "Downloading http://yann.lecun.com/exdb/mnist/t10k-labels-idx1-ubyte.gz\n",
      "Downloading http://yann.lecun.com/exdb/mnist/t10k-labels-idx1-ubyte.gz to ./data\\MNIST\\raw\\t10k-labels-idx1-ubyte.gz\n"
     ]
    },
    {
     "name": "stderr",
     "output_type": "stream",
     "text": [
      "100%|█████████████████████████████████████████████████████████████████████████| 4542/4542 [00:00<00:00, 4490930.87it/s]"
     ]
    },
    {
     "name": "stdout",
     "output_type": "stream",
     "text": [
      "Extracting ./data\\MNIST\\raw\\t10k-labels-idx1-ubyte.gz to ./data\\MNIST\\raw\n",
      "\n"
     ]
    },
    {
     "name": "stderr",
     "output_type": "stream",
     "text": [
      "\n"
     ]
    },
    {
     "name": "stdout",
     "output_type": "stream",
     "text": [
      "Epoch [1/5], Step [100/938], Loss: 0.4596\n",
      "Epoch [1/5], Step [200/938], Loss: 0.3638\n",
      "Epoch [1/5], Step [300/938], Loss: 0.1238\n",
      "Epoch [1/5], Step [400/938], Loss: 0.1351\n",
      "Epoch [1/5], Step [500/938], Loss: 0.2998\n",
      "Epoch [1/5], Step [600/938], Loss: 0.1809\n",
      "Epoch [1/5], Step [700/938], Loss: 0.0430\n",
      "Epoch [1/5], Step [800/938], Loss: 0.1429\n",
      "Epoch [1/5], Step [900/938], Loss: 0.0958\n",
      "Epoch [2/5], Step [100/938], Loss: 0.1449\n",
      "Epoch [2/5], Step [200/938], Loss: 0.1126\n",
      "Epoch [2/5], Step [300/938], Loss: 0.0508\n",
      "Epoch [2/5], Step [400/938], Loss: 0.0469\n",
      "Epoch [2/5], Step [500/938], Loss: 0.0724\n",
      "Epoch [2/5], Step [600/938], Loss: 0.0909\n",
      "Epoch [2/5], Step [700/938], Loss: 0.0351\n",
      "Epoch [2/5], Step [800/938], Loss: 0.1115\n",
      "Epoch [2/5], Step [900/938], Loss: 0.1911\n",
      "Epoch [3/5], Step [100/938], Loss: 0.1122\n",
      "Epoch [3/5], Step [200/938], Loss: 0.1187\n",
      "Epoch [3/5], Step [300/938], Loss: 0.0047\n",
      "Epoch [3/5], Step [400/938], Loss: 0.0076\n",
      "Epoch [3/5], Step [500/938], Loss: 0.0371\n",
      "Epoch [3/5], Step [600/938], Loss: 0.0126\n",
      "Epoch [3/5], Step [700/938], Loss: 0.0438\n",
      "Epoch [3/5], Step [800/938], Loss: 0.1166\n",
      "Epoch [3/5], Step [900/938], Loss: 0.0889\n",
      "Epoch [4/5], Step [100/938], Loss: 0.0373\n",
      "Epoch [4/5], Step [200/938], Loss: 0.0334\n",
      "Epoch [4/5], Step [300/938], Loss: 0.0285\n",
      "Epoch [4/5], Step [400/938], Loss: 0.0752\n",
      "Epoch [4/5], Step [500/938], Loss: 0.0323\n",
      "Epoch [4/5], Step [600/938], Loss: 0.0355\n",
      "Epoch [4/5], Step [700/938], Loss: 0.0285\n",
      "Epoch [4/5], Step [800/938], Loss: 0.0309\n",
      "Epoch [4/5], Step [900/938], Loss: 0.0100\n",
      "Epoch [5/5], Step [100/938], Loss: 0.0137\n",
      "Epoch [5/5], Step [200/938], Loss: 0.0095\n",
      "Epoch [5/5], Step [300/938], Loss: 0.0626\n",
      "Epoch [5/5], Step [400/938], Loss: 0.0061\n",
      "Epoch [5/5], Step [500/938], Loss: 0.0180\n",
      "Epoch [5/5], Step [600/938], Loss: 0.0095\n",
      "Epoch [5/5], Step [700/938], Loss: 0.0199\n",
      "Epoch [5/5], Step [800/938], Loss: 0.0976\n",
      "Epoch [5/5], Step [900/938], Loss: 0.0346\n",
      "Test Accuracy of the model on the 10000 test images: 98.7 %\n"
     ]
    }
   ],
   "source": [
    "# Expt 11 Pytorch\n",
    "\n",
    "import torch\n",
    "import torch.nn as nn\n",
    "import torch.optim as optim\n",
    "import torchvision.datasets as datasets\n",
    "import torchvision.transforms as transforms\n",
    "\n",
    "# Define hyperparameters\n",
    "num_epochs = 5\n",
    "batch_size = 64\n",
    "learning_rate = 0.001\n",
    "\n",
    "# Define the CNN architecture\n",
    "class CNN(nn.Module):\n",
    "    def __init__(self):\n",
    "        super(CNN, self).__init__()\n",
    "        self.conv1 = nn.Conv2d(in_channels=1, out_channels=16, kernel_size=3, stride=1, padding=1)\n",
    "        self.relu1 = nn.ReLU()\n",
    "        self.pool1 = nn.MaxPool2d(kernel_size=2, stride=2)\n",
    "        self.conv2 = nn.Conv2d(in_channels=16, out_channels=32, kernel_size=3, stride=1, padding=1)\n",
    "        self.relu2 = nn.ReLU()\n",
    "        self.pool2 = nn.MaxPool2d(kernel_size=2, stride=2)\n",
    "        self.fc1 = nn.Linear(in_features=7*7*32, out_features=10)\n",
    "\n",
    "    def forward(self, x):\n",
    "        x = self.conv1(x)\n",
    "        x = self.relu1(x)\n",
    "        x = self.pool1(x)\n",
    "        x = self.conv2(x)\n",
    "        x = self.relu2(x)\n",
    "        x = self.pool2(x)\n",
    "        x = x.view(-1, 7*7*32)\n",
    "        x = self.fc1(x)\n",
    "        return x\n",
    "\n",
    "# Load the MNIST dataset\n",
    "train_dataset = datasets.MNIST(root='./data', train=True, transform=transforms.ToTensor(), download=True)\n",
    "test_dataset = datasets.MNIST(root='./data', train=False, transform=transforms.ToTensor())\n",
    "\n",
    "# Create the dataloaders\n",
    "train_loader = torch.utils.data.DataLoader(dataset=train_dataset, batch_size=batch_size, shuffle=True)\n",
    "test_loader = torch.utils.data.DataLoader(dataset=test_dataset, batch_size=batch_size, shuffle=False)\n",
    "\n",
    "# Instantiate the CNN model and define the loss function and optimizer\n",
    "model = CNN()\n",
    "criterion = nn.CrossEntropyLoss()\n",
    "optimizer = optim.Adam(model.parameters(), lr=learning_rate)\n",
    "\n",
    "# Train the model\n",
    "for epoch in range(num_epochs):\n",
    "    for i, (images, labels) in enumerate(train_loader):\n",
    "        # Forward pass\n",
    "        outputs = model(images)\n",
    "        loss = criterion(outputs, labels)\n",
    "        \n",
    "        # Backward and optimize\n",
    "        optimizer.zero_grad()\n",
    "        loss.backward()\n",
    "        optimizer.step()\n",
    "        \n",
    "        if (i+1) % 100 == 0:\n",
    "            print('Epoch [{}/{}], Step [{}/{}], Loss: {:.4f}'.format(epoch+1, num_epochs, i+1, len(train_loader), loss.item()))\n",
    "\n",
    "# Test the model\n",
    "with torch.no_grad():\n",
    "    correct = 0\n",
    "    total = 0\n",
    "    for images, labels in test_loader:\n",
    "        outputs = model(images)\n",
    "        _, predicted = torch.max(outputs.data, 1)\n",
    "        total += labels.size(0)\n",
    "        correct += (predicted == labels).sum().item()\n",
    "\n",
    "    print('Test Accuracy of the model on the 10000 test images: {} %'.format(100 * correct / total))\n",
    "\n",
    "# Save the trained model\n",
    "torch.save(model.state_dict(), 'cnn.ckpt')\n"
   ]
  },
  {
   "cell_type": "code",
   "execution_count": null,
   "id": "d44c626a",
   "metadata": {},
   "outputs": [],
   "source": []
  }
 ],
 "metadata": {
  "kernelspec": {
   "display_name": "Python 3 (ipykernel)",
   "language": "python",
   "name": "python3"
  },
  "language_info": {
   "codemirror_mode": {
    "name": "ipython",
    "version": 3
   },
   "file_extension": ".py",
   "mimetype": "text/x-python",
   "name": "python",
   "nbconvert_exporter": "python",
   "pygments_lexer": "ipython3",
   "version": "3.10.5"
  }
 },
 "nbformat": 4,
 "nbformat_minor": 5
}
