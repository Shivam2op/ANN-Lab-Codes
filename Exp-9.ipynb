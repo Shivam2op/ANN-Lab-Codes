{
 "cells": [
  {
   "cell_type": "markdown",
   "id": "d923fce3",
   "metadata": {},
   "source": [
    "## [Shivam Patil LinkedIn](https://www.linkedin.com/in/shivam--patil/)"
   ]
  },
  {
   "cell_type": "code",
   "execution_count": 3,
   "id": "0b7479eb",
   "metadata": {},
   "outputs": [],
   "source": [
    "import numpy as np\n",
    "import tensorflow as tf\n",
    "from tensorflow.keras import Model\n",
    "from tensorflow.keras.layers import Conv2D, MaxPooling2D, Dense, Flatten ,Input"
   ]
  },
  {
   "cell_type": "code",
   "execution_count": 4,
   "id": "35995f53",
   "metadata": {},
   "outputs": [],
   "source": [
    "def create_model():\n",
    "    input_tensor = Input(shape=(32,32,3))\n",
    "    x = Conv2D(32,(3,3), activation= 'relu', padding = 'same')(input_tensor)\n",
    "    x = MaxPooling2D((2,2))(x)\n",
    "    x = Conv2D(64,(3,3), activation= 'relu', padding = 'same')(x)\n",
    "    x = MaxPooling2D((2,2))(x)\n",
    "    x = Conv2D(128,(3,3), activation= 'relu', padding = 'same')(x)\n",
    "    x = MaxPooling2D((2,2))(x)\n",
    "    x = Flatten()(x)\n",
    "    x = Dense(256, activation= 'relu')(x)\n",
    "    x = Dense(1, activation= 'sigmoid')(x)\n",
    "    model = Model(inputs = input_tensor, outputs= x)\n",
    "    return model\n",
    "\n",
    "(x_train, y_train), (x_test, y_test) = tf.keras.datasets.cifar10.load_data()\n"
   ]
  },
  {
   "cell_type": "code",
   "execution_count": 7,
   "id": "52495a9c",
   "metadata": {},
   "outputs": [
    {
     "name": "stdout",
     "output_type": "stream",
     "text": [
      "Epoch 1/10\n",
      "782/782 [==============================] - 145s 175ms/step - loss: 0.0060 - accuracy: 0.9999 - precision: 0.0000e+00 - recall: 0.0000e+00 - val_loss: 6.7626e-27 - val_accuracy: 1.0000 - val_precision: 0.0000e+00 - val_recall: 0.0000e+00\n",
      "Epoch 2/10\n",
      "782/782 [==============================] - 132s 169ms/step - loss: 6.7630e-27 - accuracy: 1.0000 - precision: 0.0000e+00 - recall: 0.0000e+00 - val_loss: 6.7626e-27 - val_accuracy: 1.0000 - val_precision: 0.0000e+00 - val_recall: 0.0000e+00\n",
      "Epoch 3/10\n",
      "782/782 [==============================] - 130s 166ms/step - loss: 6.7630e-27 - accuracy: 1.0000 - precision: 0.0000e+00 - recall: 0.0000e+00 - val_loss: 6.7626e-27 - val_accuracy: 1.0000 - val_precision: 0.0000e+00 - val_recall: 0.0000e+00\n",
      "Epoch 4/10\n",
      "782/782 [==============================] - 130s 166ms/step - loss: 6.7630e-27 - accuracy: 1.0000 - precision: 0.0000e+00 - recall: 0.0000e+00 - val_loss: 6.7626e-27 - val_accuracy: 1.0000 - val_precision: 0.0000e+00 - val_recall: 0.0000e+00\n",
      "Epoch 5/10\n",
      "782/782 [==============================] - 130s 167ms/step - loss: 6.7630e-27 - accuracy: 1.0000 - precision: 0.0000e+00 - recall: 0.0000e+00 - val_loss: 6.7626e-27 - val_accuracy: 1.0000 - val_precision: 0.0000e+00 - val_recall: 0.0000e+00\n",
      "Epoch 6/10\n",
      "782/782 [==============================] - 131s 167ms/step - loss: 6.7630e-27 - accuracy: 1.0000 - precision: 0.0000e+00 - recall: 0.0000e+00 - val_loss: 6.7626e-27 - val_accuracy: 1.0000 - val_precision: 0.0000e+00 - val_recall: 0.0000e+00\n",
      "Epoch 7/10\n",
      "782/782 [==============================] - 130s 166ms/step - loss: 6.7630e-27 - accuracy: 1.0000 - precision: 0.0000e+00 - recall: 0.0000e+00 - val_loss: 6.7626e-27 - val_accuracy: 1.0000 - val_precision: 0.0000e+00 - val_recall: 0.0000e+00\n",
      "Epoch 8/10\n",
      "782/782 [==============================] - 131s 168ms/step - loss: 6.7630e-27 - accuracy: 1.0000 - precision: 0.0000e+00 - recall: 0.0000e+00 - val_loss: 6.7626e-27 - val_accuracy: 1.0000 - val_precision: 0.0000e+00 - val_recall: 0.0000e+00\n",
      "Epoch 9/10\n",
      "782/782 [==============================] - 131s 167ms/step - loss: 6.7630e-27 - accuracy: 1.0000 - precision: 0.0000e+00 - recall: 0.0000e+00 - val_loss: 6.7626e-27 - val_accuracy: 1.0000 - val_precision: 0.0000e+00 - val_recall: 0.0000e+00\n",
      "Epoch 10/10\n",
      "782/782 [==============================] - 132s 169ms/step - loss: 6.7630e-27 - accuracy: 1.0000 - precision: 0.0000e+00 - recall: 0.0000e+00 - val_loss: 6.7626e-27 - val_accuracy: 1.0000 - val_precision: 0.0000e+00 - val_recall: 0.0000e+00\n",
      "157/157 [==============================] - 7s 46ms/step - loss: 6.7626e-27 - accuracy: 1.0000 - precision: 0.0000e+00 - recall: 0.0000e+00\n",
      "Test loss, Test accuracy, Test precision, Test recall:  [6.762567117533478e-27, 1.0, 0.0, 0.0]\n"
     ]
    }
   ],
   "source": [
    "# Normalize data\n",
    "x_train = x_train / 255.0\n",
    "x_test = x_test / 255.0\n",
    "\n",
    "# define object detection labels\n",
    "y_train = (y_train == 2).astype(int)\n",
    "y_test = (y_test == 2).astype(int)\n",
    "\n",
    "model = create_model()\n",
    "\n",
    "model.compile(optimizer='adam', loss= 'binary_crossentropy', metrics= ['accuracy', tf.keras.metrics.Precision(), tf.keras.metrics.Recall()])\n",
    "\n",
    "model.fit(x_train, y_train, epochs = 10 , batch_size = 64, validation_data = (x_test, y_test))\n",
    "\n",
    "results = model.evaluate(x_test, y_test, batch_size = 64)\n",
    "print(\"Test loss, Test accuracy, Test precision, Test recall: \", results)\n",
    "\n",
    "          "
   ]
  },
  {
   "cell_type": "code",
   "execution_count": null,
   "id": "7bf20935",
   "metadata": {},
   "outputs": [],
   "source": []
  }
 ],
 "metadata": {
  "kernelspec": {
   "display_name": "Python 3 (ipykernel)",
   "language": "python",
   "name": "python3"
  },
  "language_info": {
   "codemirror_mode": {
    "name": "ipython",
    "version": 3
   },
   "file_extension": ".py",
   "mimetype": "text/x-python",
   "name": "python",
   "nbconvert_exporter": "python",
   "pygments_lexer": "ipython3",
   "version": "3.10.5"
  }
 },
 "nbformat": 4,
 "nbformat_minor": 5
}
