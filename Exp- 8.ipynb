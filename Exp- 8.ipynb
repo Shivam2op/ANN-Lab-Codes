{
 "cells": [
  {
   "cell_type": "markdown",
   "id": "7f7fe4ee",
   "metadata": {},
   "source": [
    "**[Shivam Patil Linkedln](https://www.linkedin.com/in/shivam--patil/)**"
   ]
  },
  {
   "cell_type": "code",
   "execution_count": 8,
   "id": "7899af6f",
   "metadata": {},
   "outputs": [
    {
     "name": "stdout",
     "output_type": "stream",
     "text": [
      "Input pattern:  [0 0 1 1]\n",
      "Recalled pattern:  [1. 1. 1. 1.]\n"
     ]
    }
   ],
   "source": [
    "import numpy as np\n",
    "class HopfieldNetwork:\n",
    "    def __init__(self, n):\n",
    "        self.n = n\n",
    "        self.weights = np.zeros((n,n))\n",
    "        \n",
    "    def train(self, patterns):\n",
    "        self.weights = np.zeros((self.n, self.n))\n",
    "        for p in patterns:\n",
    "            self.weights += np.outer(p, p)\n",
    "        np.fill_diagonal(self.weights, 0)\n",
    "        \n",
    "    def recall(self, pattern, max_iters = 100):\n",
    "        for i in range(max_iters):\n",
    "            energy = -0.5 * np.dot(np.dot(pattern, self.weights), pattern)\n",
    "            new_pattern = np.sign(np.dot(self.weights, pattern))\n",
    "            if np.array_equal(new_pattern, pattern):\n",
    "                return new_pattern\n",
    "            pattern = new_pattern\n",
    "        return pattern\n",
    "\n",
    "patterns = np.array([[1,0,1,0],[0,1,0,1],[1,1,0,0],[0,0,1,1]])\n",
    "hopfield = HopfieldNetwork(n=4)\n",
    "hopfield.train(patterns)\n",
    "\n",
    "for pattern in patterns:\n",
    "    recalled_pattern = hopfield.recall(pattern)\n",
    "print(\"Input pattern: \", pattern)\n",
    "print(\"Recalled pattern: \", recalled_pattern)"
   ]
  },
  {
   "cell_type": "code",
   "execution_count": null,
   "id": "1b9f548a",
   "metadata": {},
   "outputs": [],
   "source": []
  },
  {
   "cell_type": "code",
   "execution_count": null,
   "id": "63c227e0",
   "metadata": {},
   "outputs": [],
   "source": []
  },
  {
   "cell_type": "code",
   "execution_count": null,
   "id": "b68f134b",
   "metadata": {},
   "outputs": [],
   "source": []
  }
 ],
 "metadata": {
  "kernelspec": {
   "display_name": "Python 3 (ipykernel)",
   "language": "python",
   "name": "python3"
  },
  "language_info": {
   "codemirror_mode": {
    "name": "ipython",
    "version": 3
   },
   "file_extension": ".py",
   "mimetype": "text/x-python",
   "name": "python",
   "nbconvert_exporter": "python",
   "pygments_lexer": "ipython3",
   "version": "3.10.5"
  }
 },
 "nbformat": 4,
 "nbformat_minor": 5
}
