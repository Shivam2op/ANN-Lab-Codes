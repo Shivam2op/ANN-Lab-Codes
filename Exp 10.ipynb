{
 "cells": [
  {
   "cell_type": "code",
   "execution_count": 2,
   "id": "637256de",
   "metadata": {},
   "outputs": [
    {
     "name": "stdout",
     "output_type": "stream",
     "text": [
      "Predicted Output:\n",
      "[[0.]\n",
      " [1.]\n",
      " [1.]\n",
      " [0.]]\n"
     ]
    }
   ],
   "source": [
    "# Expt 10\n",
    "\n",
    "\n",
    "import numpy as np\n",
    "\n",
    "# Define the sigmoid activation function\n",
    "def sigmoid(x):\n",
    "    return 1 / (1 + np.exp(-x))\n",
    "\n",
    "# Define the derivative of the sigmoid function\n",
    "def sigmoid_derivative(x):\n",
    "    return x * (1 - x)\n",
    "\n",
    "# Define the XOR function dataset\n",
    "X = np.array([[0, 0], [0, 1], [1, 0], [1, 1]])\n",
    "y = np.array([[0], [1], [1], [0]])\n",
    "\n",
    "# Set the random seed for reproducibility\n",
    "np.random.seed(42)\n",
    "\n",
    "# Initialize the weights and biases with random values\n",
    "weights1 = np.random.rand(2, 2)\n",
    "bias1 = np.random.rand(1, 2)\n",
    "weights2 = np.random.rand(2, 1)\n",
    "bias2 = np.random.rand(1, 1)\n",
    "\n",
    "# Set the learning rate and number of iterations\n",
    "learning_rate = 0.1\n",
    "num_iterations = 10000\n",
    "\n",
    "# Training loop\n",
    "for iteration in range(num_iterations):\n",
    "    # Forward propagation\n",
    "    layer1_output = sigmoid(np.dot(X, weights1) + bias1)\n",
    "    layer2_output = sigmoid(np.dot(layer1_output, weights2) + bias2)\n",
    "    \n",
    "    # Backpropagation\n",
    "    layer2_error = y - layer2_output\n",
    "    layer2_delta = layer2_error * sigmoid_derivative(layer2_output)\n",
    "    layer1_error = np.dot(layer2_delta, weights2.T)\n",
    "    layer1_delta = layer1_error * sigmoid_derivative(layer1_output)\n",
    "    \n",
    "    # Update weights and biases\n",
    "    weights2 += np.dot(layer1_output.T, layer2_delta) * learning_rate\n",
    "    bias2 += np.sum(layer2_delta, axis=0, keepdims=True) * learning_rate\n",
    "    weights1 += np.dot(X.T, layer1_delta) * learning_rate\n",
    "    bias1 += np.sum(layer1_delta, axis=0, keepdims=True) * learning_rate\n",
    "\n",
    "# Test the trained network\n",
    "test_output = sigmoid(np.dot(sigmoid(np.dot(X, weights1) + bias1), weights2) + bias2)\n",
    "print(\"Predicted Output:\")\n",
    "print(test_output.round())\n"
   ]
  },
  {
   "cell_type": "code",
   "execution_count": null,
   "id": "bb31e883",
   "metadata": {},
   "outputs": [],
   "source": []
  }
 ],
 "metadata": {
  "kernelspec": {
   "display_name": "Python 3 (ipykernel)",
   "language": "python",
   "name": "python3"
  },
  "language_info": {
   "codemirror_mode": {
    "name": "ipython",
    "version": 3
   },
   "file_extension": ".py",
   "mimetype": "text/x-python",
   "name": "python",
   "nbconvert_exporter": "python",
   "pygments_lexer": "ipython3",
   "version": "3.10.5"
  }
 },
 "nbformat": 4,
 "nbformat_minor": 5
}
