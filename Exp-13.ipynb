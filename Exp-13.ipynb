{
 "cells": [
  {
   "cell_type": "code",
   "execution_count": 2,
   "id": "5cd4e486",
   "metadata": {},
   "outputs": [],
   "source": [
    "import tensorflow as tf\n",
    "\n",
    "from tensorflow.keras.datasets import mnist\n",
    "# mnist dataset contains 60 k training and 10k testing images of handwritten digits\n",
    "\n",
    "from tensorflow.keras.models import Sequential\n",
    "# The Sequential class is a fundamental building block in Keras, \n",
    "# a high-level neural networks API running on top of TensorFlow. \n",
    "# It allows you to create models by stacking multiple layers sequentially.\n",
    "\n",
    "\n",
    "from tensorflow.keras.layers import Dense, Flatten\n",
    "# fully connected layer used to connect every neuron from the previous layer to every neuron in the current layer. \n",
    "# has various parameters such as the number of units/neurons, activation function\n",
    "#  It converts the multi-dimensional output of the previous layer into a flat vector"
   ]
  },
  {
   "cell_type": "code",
   "execution_count": 3,
   "id": "4073d5b0",
   "metadata": {},
   "outputs": [],
   "source": [
    "from tensorflow.keras.optimizers import Adam\n",
    "# adjusts the learning rate for each parameter,performs bias correction\n"
   ]
  },
  {
   "cell_type": "code",
   "execution_count": 7,
   "id": "17f6d60d",
   "metadata": {},
   "outputs": [
    {
     "name": "stdout",
     "output_type": "stream",
     "text": [
      "Epoch 1/10\n",
      "469/469 [==============================] - 4s 5ms/step - loss: 0.3591 - accuracy: 0.8994\n",
      "Epoch 2/10\n",
      "469/469 [==============================] - 3s 5ms/step - loss: 0.1668 - accuracy: 0.9530\n",
      "Epoch 3/10\n",
      "469/469 [==============================] - 3s 5ms/step - loss: 0.1205 - accuracy: 0.9660\n",
      "Epoch 4/10\n",
      "469/469 [==============================] - 3s 5ms/step - loss: 0.0942 - accuracy: 0.9723\n",
      "Epoch 5/10\n",
      "469/469 [==============================] - 2s 5ms/step - loss: 0.0748 - accuracy: 0.9783\n",
      "Epoch 6/10\n",
      "469/469 [==============================] - 3s 5ms/step - loss: 0.0633 - accuracy: 0.9814\n",
      "Epoch 7/10\n",
      "469/469 [==============================] - 3s 6ms/step - loss: 0.0527 - accuracy: 0.9850\n",
      "Epoch 8/10\n",
      "469/469 [==============================] - 3s 5ms/step - loss: 0.0447 - accuracy: 0.9869\n",
      "Epoch 9/10\n",
      "469/469 [==============================] - 2s 5ms/step - loss: 0.0376 - accuracy: 0.9898\n",
      "Epoch 10/10\n",
      "469/469 [==============================] - 2s 5ms/step - loss: 0.0316 - accuracy: 0.9916\n",
      "313/313 - 1s - loss: 0.0743 - accuracy: 0.9767 - 1s/epoch - 4ms/step\n",
      "Test Loss :  0.0743\n",
      "Test Accuracy :  0.9767\n"
     ]
    }
   ],
   "source": [
    "(x_train, y_train), (x_test, y_test) = mnist.load_data()\n",
    "x_train = x_train/ 255.0\n",
    "x_test = x_test / 255.0\n",
    " \n",
    "model = Sequential()\n",
    "model.add(Flatten(input_shape=(28,28)))\n",
    "model.add(Dense(128, activation = 'relu'))\n",
    "model.add(Dense(10,activation = 'softmax'))\n",
    "\n",
    "model.compile(optimizer=Adam(learning_rate=0.001),\n",
    "              loss='sparse_categorical_crossentropy',\n",
    "              metrics=['accuracy'])\n",
    "\n",
    "\n",
    "model.fit(x_train, y_train, batch_size = 128, epochs = 10 , verbose = 1)\n",
    "\n",
    "test_loss, test_acc = model.evaluate(x_test, y_test, verbose = 2)\n",
    "print(f'Test Loss : {test_loss : .4f}')\n",
    "print(f'Test Accuracy : {test_acc : .4f}')"
   ]
  },
  {
   "cell_type": "code",
   "execution_count": null,
   "id": "d9e7331e",
   "metadata": {},
   "outputs": [],
   "source": []
  }
 ],
 "metadata": {
  "kernelspec": {
   "display_name": "Python 3 (ipykernel)",
   "language": "python",
   "name": "python3"
  },
  "language_info": {
   "codemirror_mode": {
    "name": "ipython",
    "version": 3
   },
   "file_extension": ".py",
   "mimetype": "text/x-python",
   "name": "python",
   "nbconvert_exporter": "python",
   "pygments_lexer": "ipython3",
   "version": "3.10.5"
  }
 },
 "nbformat": 4,
 "nbformat_minor": 5
}
